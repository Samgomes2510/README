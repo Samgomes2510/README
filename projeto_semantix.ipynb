{
  "nbformat": 4,
  "nbformat_minor": 0,
  "metadata": {
    "colab": {
      "provenance": [],
      "authorship_tag": "ABX9TyOUxRoOPJes7DX2m6mT62+K",
      "include_colab_link": true
    },
    "kernelspec": {
      "name": "python3",
      "display_name": "Python 3"
    },
    "language_info": {
      "name": "python"
    }
  },
  "cells": [
    {
      "cell_type": "markdown",
      "metadata": {
        "id": "view-in-github",
        "colab_type": "text"
      },
      "source": [
        "<a href=\"https://colab.research.google.com/github/Samgomes2510/README/blob/main/projeto_semantix.ipynb\" target=\"_parent\"><img src=\"https://colab.research.google.com/assets/colab-badge.svg\" alt=\"Open In Colab\"/></a>"
      ]
    },
    {
      "cell_type": "code",
      "source": [
        "# Instalação de pacotes\n",
        "!pip install pandas-gbq google-cloud-bigquery --quiet\n",
        "!pip install --upgrade google-cloud-bigquery pandas-gbq\n",
        "\n",
        "# Autenticação\n",
        "from google.colab import auth\n",
        "auth.authenticate_user()\n",
        "\n",
        "# Importações\n",
        "import pandas as pd\n",
        "from google.cloud import bigquery"
      ],
      "metadata": {
        "colab": {
          "base_uri": "https://localhost:8080/"
        },
        "collapsed": true,
        "id": "_40T3Gyvp87I",
        "outputId": "adbe18c1-1725-460e-ce02-924ef7bf80b0"
      },
      "execution_count": 23,
      "outputs": [
        {
          "output_type": "stream",
          "name": "stdout",
          "text": [
            "Requirement already satisfied: google-cloud-bigquery in /usr/local/lib/python3.11/dist-packages (3.32.0)\n",
            "Requirement already satisfied: pandas-gbq in /usr/local/lib/python3.11/dist-packages (0.28.1)\n",
            "Requirement already satisfied: google-api-core<3.0.0,>=2.11.1 in /usr/local/lib/python3.11/dist-packages (from google-api-core[grpc]<3.0.0,>=2.11.1->google-cloud-bigquery) (2.24.2)\n",
            "Requirement already satisfied: google-auth<3.0.0,>=2.14.1 in /usr/local/lib/python3.11/dist-packages (from google-cloud-bigquery) (2.38.0)\n",
            "Requirement already satisfied: google-cloud-core<3.0.0,>=2.4.1 in /usr/local/lib/python3.11/dist-packages (from google-cloud-bigquery) (2.4.3)\n",
            "Requirement already satisfied: google-resumable-media<3.0.0,>=2.0.0 in /usr/local/lib/python3.11/dist-packages (from google-cloud-bigquery) (2.7.2)\n",
            "Requirement already satisfied: packaging>=24.2.0 in /usr/local/lib/python3.11/dist-packages (from google-cloud-bigquery) (24.2)\n",
            "Requirement already satisfied: python-dateutil<3.0.0,>=2.8.2 in /usr/local/lib/python3.11/dist-packages (from google-cloud-bigquery) (2.9.0.post0)\n",
            "Requirement already satisfied: requests<3.0.0,>=2.21.0 in /usr/local/lib/python3.11/dist-packages (from google-cloud-bigquery) (2.32.3)\n",
            "Requirement already satisfied: setuptools in /usr/local/lib/python3.11/dist-packages (from pandas-gbq) (75.2.0)\n",
            "Requirement already satisfied: db-dtypes<2.0.0,>=1.0.4 in /usr/local/lib/python3.11/dist-packages (from pandas-gbq) (1.4.3)\n",
            "Requirement already satisfied: numpy>=1.18.1 in /usr/local/lib/python3.11/dist-packages (from pandas-gbq) (2.0.2)\n",
            "Requirement already satisfied: pandas>=1.1.4 in /usr/local/lib/python3.11/dist-packages (from pandas-gbq) (2.2.2)\n",
            "Requirement already satisfied: pyarrow>=4.0.0 in /usr/local/lib/python3.11/dist-packages (from pandas-gbq) (18.1.0)\n",
            "Requirement already satisfied: pydata-google-auth>=1.5.0 in /usr/local/lib/python3.11/dist-packages (from pandas-gbq) (1.9.1)\n",
            "Requirement already satisfied: google-auth-oauthlib>=0.7.0 in /usr/local/lib/python3.11/dist-packages (from pandas-gbq) (1.2.2)\n",
            "Requirement already satisfied: googleapis-common-protos<2.0.0,>=1.56.2 in /usr/local/lib/python3.11/dist-packages (from google-api-core<3.0.0,>=2.11.1->google-api-core[grpc]<3.0.0,>=2.11.1->google-cloud-bigquery) (1.70.0)\n",
            "Requirement already satisfied: protobuf!=3.20.0,!=3.20.1,!=4.21.0,!=4.21.1,!=4.21.2,!=4.21.3,!=4.21.4,!=4.21.5,<7.0.0,>=3.19.5 in /usr/local/lib/python3.11/dist-packages (from google-api-core<3.0.0,>=2.11.1->google-api-core[grpc]<3.0.0,>=2.11.1->google-cloud-bigquery) (5.29.4)\n",
            "Requirement already satisfied: proto-plus<2.0.0,>=1.22.3 in /usr/local/lib/python3.11/dist-packages (from google-api-core<3.0.0,>=2.11.1->google-api-core[grpc]<3.0.0,>=2.11.1->google-cloud-bigquery) (1.26.1)\n",
            "Requirement already satisfied: grpcio<2.0dev,>=1.33.2 in /usr/local/lib/python3.11/dist-packages (from google-api-core[grpc]<3.0.0,>=2.11.1->google-cloud-bigquery) (1.71.0)\n",
            "Requirement already satisfied: grpcio-status<2.0.dev0,>=1.33.2 in /usr/local/lib/python3.11/dist-packages (from google-api-core[grpc]<3.0.0,>=2.11.1->google-cloud-bigquery) (1.71.0)\n",
            "Requirement already satisfied: cachetools<6.0,>=2.0.0 in /usr/local/lib/python3.11/dist-packages (from google-auth<3.0.0,>=2.14.1->google-cloud-bigquery) (5.5.2)\n",
            "Requirement already satisfied: pyasn1-modules>=0.2.1 in /usr/local/lib/python3.11/dist-packages (from google-auth<3.0.0,>=2.14.1->google-cloud-bigquery) (0.4.2)\n",
            "Requirement already satisfied: rsa<5,>=3.1.4 in /usr/local/lib/python3.11/dist-packages (from google-auth<3.0.0,>=2.14.1->google-cloud-bigquery) (4.9.1)\n",
            "Requirement already satisfied: requests-oauthlib>=0.7.0 in /usr/local/lib/python3.11/dist-packages (from google-auth-oauthlib>=0.7.0->pandas-gbq) (2.0.0)\n",
            "Requirement already satisfied: google-crc32c<2.0dev,>=1.0 in /usr/local/lib/python3.11/dist-packages (from google-resumable-media<3.0.0,>=2.0.0->google-cloud-bigquery) (1.7.1)\n",
            "Requirement already satisfied: pytz>=2020.1 in /usr/local/lib/python3.11/dist-packages (from pandas>=1.1.4->pandas-gbq) (2025.2)\n",
            "Requirement already satisfied: tzdata>=2022.7 in /usr/local/lib/python3.11/dist-packages (from pandas>=1.1.4->pandas-gbq) (2025.2)\n",
            "Requirement already satisfied: six>=1.5 in /usr/local/lib/python3.11/dist-packages (from python-dateutil<3.0.0,>=2.8.2->google-cloud-bigquery) (1.17.0)\n",
            "Requirement already satisfied: charset-normalizer<4,>=2 in /usr/local/lib/python3.11/dist-packages (from requests<3.0.0,>=2.21.0->google-cloud-bigquery) (3.4.2)\n",
            "Requirement already satisfied: idna<4,>=2.5 in /usr/local/lib/python3.11/dist-packages (from requests<3.0.0,>=2.21.0->google-cloud-bigquery) (3.10)\n",
            "Requirement already satisfied: urllib3<3,>=1.21.1 in /usr/local/lib/python3.11/dist-packages (from requests<3.0.0,>=2.21.0->google-cloud-bigquery) (2.4.0)\n",
            "Requirement already satisfied: certifi>=2017.4.17 in /usr/local/lib/python3.11/dist-packages (from requests<3.0.0,>=2.21.0->google-cloud-bigquery) (2025.4.26)\n",
            "Requirement already satisfied: pyasn1<0.7.0,>=0.6.1 in /usr/local/lib/python3.11/dist-packages (from pyasn1-modules>=0.2.1->google-auth<3.0.0,>=2.14.1->google-cloud-bigquery) (0.6.1)\n",
            "Requirement already satisfied: oauthlib>=3.0.0 in /usr/local/lib/python3.11/dist-packages (from requests-oauthlib>=0.7.0->google-auth-oauthlib>=0.7.0->pandas-gbq) (3.2.2)\n"
          ]
        }
      ]
    },
    {
      "cell_type": "code",
      "source": [
        "# Configuração do projeto\n",
        "PROJECT_ID = 'projeto-semantix-460222'  # Substitua pelo seu ID real\n",
        "DATASET_ID = 'agricultura_mg'          # Nome do novo dataset\n",
        "LOCATION = 'us-central1'               # Região do dataset\n",
        "\n",
        "# Criar cliente BigQuery\n",
        "client = bigquery.Client(project=PROJECT_ID)\n",
        "\n",
        "# Criar dataset\n",
        "try:\n",
        "    dataset = bigquery.Dataset(f\"{PROJECT_ID}.{DATASET_ID}\")\n",
        "    dataset.location = LOCATION\n",
        "    dataset = client.create_dataset(dataset)\n",
        "    print(f\"✅ Dataset '{DATASET_ID}' criado com sucesso em {LOCATION}\")\n",
        "except Exception as e:\n",
        "    print(f\"❌ Erro ao criar dataset: {e}\")"
      ],
      "metadata": {
        "colab": {
          "base_uri": "https://localhost:8080/"
        },
        "id": "FA-bXm3NqFKh",
        "outputId": "6f6ba57e-dfa3-4f88-83f3-ec2270cd1991"
      },
      "execution_count": 24,
      "outputs": [
        {
          "output_type": "stream",
          "name": "stdout",
          "text": [
            "✅ Dataset 'agricultura_mg' criado com sucesso em us-central1\n"
          ]
        }
      ]
    },
    {
      "cell_type": "code",
      "source": [
        "# Dados de exemplo (substitua pelos seus dados)\n",
        "dados_exemplo = {\n",
        "    'ano': [2020, 2021, 2022],\n",
        "    'produto': ['Soja', 'Milho', 'Café'],\n",
        "    'producao_ton': [150, 200, 50],\n",
        "    'municipio': ['Uberaba', 'Uberlândia', 'Patrocínio']\n",
        "}\n",
        "\n",
        "df = pd.DataFrame(dados_exemplo)\n",
        "\n",
        "# Configuração da tabela\n",
        "TABLE_ID = 'producao_agricola'\n",
        "\n",
        "# Carregar dados para o BigQuery\n",
        "try:\n",
        "    df.to_gbq(\n",
        "        destination_table=f'{DATASET_ID}.{TABLE_ID}',\n",
        "        project_id=PROJECT_ID,\n",
        "        if_exists='replace'  # Substitui se já existir\n",
        "    )\n",
        "    print(f\"✅ Tabela '{TABLE_ID}' criada com sucesso\")\n",
        "except Exception as e:\n",
        "    print(f\"❌ Erro ao criar tabela: {e}\")"
      ],
      "metadata": {
        "colab": {
          "base_uri": "https://localhost:8080/"
        },
        "id": "VGatjYElqSSq",
        "outputId": "f626cba9-1178-4baa-9333-d709eb7a5ad5"
      },
      "execution_count": 25,
      "outputs": [
        {
          "output_type": "stream",
          "name": "stderr",
          "text": [
            "<ipython-input-25-238acbbaf0be>:16: FutureWarning: to_gbq is deprecated and will be removed in a future version. Please use pandas_gbq.to_gbq instead: https://pandas-gbq.readthedocs.io/en/latest/api.html#pandas_gbq.to_gbq\n",
            "  df.to_gbq(\n",
            "100%|██████████| 1/1 [00:00<00:00, 5447.15it/s]"
          ]
        },
        {
          "output_type": "stream",
          "name": "stdout",
          "text": [
            "✅ Tabela 'producao_agricola' criada com sucesso\n"
          ]
        },
        {
          "output_type": "stream",
          "name": "stderr",
          "text": [
            "\n"
          ]
        }
      ]
    },
    {
      "cell_type": "code",
      "source": [
        "# Exportar para CSV\n",
        "df.to_csv('dados_temp.csv', index=False)\n",
        "\n",
        "# Fazer upload para GCS (substitua pelo seu bucket)\n",
        "BUCKET_NAME = 'seu-bucket-no-gcs'\n",
        "!gsutil cp dados_temp.csv gs://{BUCKET_NAME}/\n",
        "\n",
        "# Configurar job de carga\n",
        "job_config = bigquery.LoadJobConfig(\n",
        "    source_format=bigquery.SourceFormat.CSV,\n",
        "    skip_leading_rows=1,\n",
        "    autodetect=True,\n",
        "    write_disposition='WRITE_APPEND'\n",
        ")\n",
        "\n",
        "# Carregar dados\n",
        "uri = f\"gs://{BUCKET_NAME}/dados_temp.csv\"\n",
        "try:\n",
        "    load_job = client.load_table_from_uri(\n",
        "        uri, f\"{PROJECT_ID}.{DATASET_ID}.{TABLE_ID}\", job_config=job_config\n",
        "    )\n",
        "    load_job.result()  # Aguarda conclusão\n",
        "    print(\"✅ Dados carregados via GCS com sucesso\")\n",
        "except Exception as e:\n",
        "    print(f\"❌ Erro no carregamento: {e}\")\n",
        "finally:\n",
        "    # Limpar arquivo temporário\n",
        "    !rm dados_temp.csv"
      ],
      "metadata": {
        "colab": {
          "base_uri": "https://localhost:8080/"
        },
        "id": "2cc_OAz2rTdt",
        "outputId": "4f9066e0-be19-4513-c6cd-9014d06e6b95"
      },
      "execution_count": 29,
      "outputs": [
        {
          "output_type": "stream",
          "name": "stdout",
          "text": [
            "Copying file://dados_temp.csv [Content-Type=text/csv]...\n",
            "NotFoundException: 404 The destination bucket gs://seu-bucket-no-gcs does not exist or the write to the destination must be restarted\n",
            "❌ Erro no carregamento: 404 Not found: URI gs://seu-bucket-no-gcs; reason: notFound, message: Not found: URI gs://seu-bucket-no-gcs\n"
          ]
        }
      ]
    },
    {
      "cell_type": "code",
      "source": [
        "from google.cloud import bigquery\n",
        "\n",
        "PROJECT_ID = 'projeto-semantix-460222'\n",
        "DATASET_ID = 'agricultura_mg'\n",
        "TABLE_ID = 'producao_agricola'\n",
        "\n",
        "# Criar cliente BigQuery\n",
        "client = bigquery.Client(project=PROJECT_ID)\n",
        "\n",
        "# Dados de exemplo\n",
        "dados = [\n",
        "    {\"ano\": 2023, \"produto\": \"Soja\", \"producao_ton\": 180.5, \"municipio\": \"Uberaba\"},\n",
        "    {\"ano\": 2023, \"produto\": \"Milho\", \"producao_ton\": 220.0, \"municipio\": \"Uberlândia\"}\n",
        "]\n",
        "\n",
        "# Converter para DataFrame\n",
        "df = pd.DataFrame(dados)\n",
        "\n",
        "# Método 1: Carregamento via DataFrame (recomendado)\n",
        "try:\n",
        "    df.to_gbq(\n",
        "        destination_table=f'{DATASET_ID}.{TABLE_ID}',\n",
        "        project_id=PROJECT_ID,\n",
        "        if_exists='append'  # Adiciona aos dados existentes\n",
        "    )\n",
        "    print(\"✅ Dados carregados com sucesso via to_gbq()\")\n",
        "except Exception as e:\n",
        "    print(f\"❌ Erro no carregamento: {e}\")"
      ],
      "metadata": {
        "colab": {
          "base_uri": "https://localhost:8080/"
        },
        "id": "M6onds_prHcq",
        "outputId": "961e0923-efb9-4440-930f-840e643bc12f"
      },
      "execution_count": 28,
      "outputs": [
        {
          "output_type": "stream",
          "name": "stderr",
          "text": [
            "<ipython-input-28-0a7313cf7263>:21: FutureWarning: to_gbq is deprecated and will be removed in a future version. Please use pandas_gbq.to_gbq instead: https://pandas-gbq.readthedocs.io/en/latest/api.html#pandas_gbq.to_gbq\n",
            "  df.to_gbq(\n"
          ]
        },
        {
          "output_type": "stream",
          "name": "stdout",
          "text": [
            "❌ Erro no carregamento: Could not convert DataFrame to Parquet.\n"
          ]
        }
      ]
    },
    {
      "cell_type": "code",
      "source": [
        "df.to_gbq(\n",
        "    f'{DATASET_ID}.{TABLE_ID}',\n",
        "    project_id=PROJECT_ID,\n",
        "    if_exists='replace'  # Substitui a tabela inteira\n",
        ")"
      ],
      "metadata": {
        "colab": {
          "base_uri": "https://localhost:8080/"
        },
        "id": "rMhFbH4-rhcj",
        "outputId": "f3da3a72-2889-4067-aa55-68637ea8a8fe"
      },
      "execution_count": 30,
      "outputs": [
        {
          "output_type": "stream",
          "name": "stderr",
          "text": [
            "<ipython-input-30-4ea71dee0198>:1: FutureWarning: to_gbq is deprecated and will be removed in a future version. Please use pandas_gbq.to_gbq instead: https://pandas-gbq.readthedocs.io/en/latest/api.html#pandas_gbq.to_gbq\n",
            "  df.to_gbq(\n",
            "100%|██████████| 1/1 [00:00<00:00, 2348.43it/s]\n"
          ]
        }
      ]
    },
    {
      "cell_type": "code",
      "source": [
        "# Inserir dados em lote\n",
        "rows_to_insert = [\n",
        "    {\"ano\": 2023, \"produto\": \"Soja\", \"producao_ton\": 180.5, \"municipio\": \"Uberaba\"},\n",
        "    {\"ano\": 2023, \"produto\": \"Milho\", \"producao_ton\": 220.0, \"municipio\": \"Uberlândia\"}\n",
        "]\n",
        "\n",
        "try:\n",
        "    errors = client.insert_rows_json(\n",
        "        f\"{PROJECT_ID}.{DATASET_ID}.{TABLE_ID}\",\n",
        "        rows_to_insert\n",
        "    )\n",
        "    if not errors:\n",
        "        print(\"✅ Dados inseridos com sucesso\")\n",
        "    else:\n",
        "        print(\"❌ Erros ao inserir dados:\", errors)\n",
        "except Exception as e:\n",
        "    print(f\"❌ Erro na inserção: {e}\")"
      ],
      "metadata": {
        "colab": {
          "base_uri": "https://localhost:8080/"
        },
        "id": "T7d4tDO7qgAk",
        "outputId": "0e76a6c4-3c58-4138-ffa7-af3f211b244e"
      },
      "execution_count": 26,
      "outputs": [
        {
          "output_type": "stream",
          "name": "stdout",
          "text": [
            "❌ Erro na inserção: 403 POST https://bigquery.googleapis.com/bigquery/v2/projects/projeto-semantix-460222/datasets/agricultura_mg/tables/producao_agricola/insertAll?prettyPrint=false: Access Denied: BigQuery BigQuery: Streaming insert is not allowed in the free tier\n"
          ]
        }
      ]
    },
    {
      "cell_type": "code",
      "source": [
        "# Consulta básica\n",
        "query = f\"\"\"\n",
        "SELECT\n",
        "  ano,\n",
        "  produto,\n",
        "  producao_ton\n",
        "FROM\n",
        "  {PROJECT_ID}.{DATASET_ID}.{TABLE_ID}\n",
        "WHERE\n",
        "  ano >= 2020\n",
        "ORDER BY\n",
        "  producao_ton DESC\n",
        "\"\"\"\n",
        "\n",
        "try:\n",
        "    df_resultado = client.query(query).to_dataframe()\n",
        "    print(\"📊 Resultados da consulta:\")\n",
        "    display(df_resultado)\n",
        "except Exception as e:\n",
        "    print(f\"❌ Erro na consulta: {e}\")"
      ],
      "metadata": {
        "colab": {
          "base_uri": "https://localhost:8080/",
          "height": 161
        },
        "id": "4wdAQWCUqo-1",
        "outputId": "35e5052d-e1a0-41be-f9d8-2306ee0065c3"
      },
      "execution_count": 27,
      "outputs": [
        {
          "output_type": "stream",
          "name": "stdout",
          "text": [
            "📊 Resultados da consulta:\n"
          ]
        },
        {
          "output_type": "display_data",
          "data": {
            "text/plain": [
              "    ano produto  producao_ton\n",
              "0  2021   Milho           200\n",
              "1  2020    Soja           150\n",
              "2  2022    Café            50"
            ],
            "text/html": [
              "\n",
              "  <div id=\"df-dfc9e64f-1c90-45e2-896b-3a19e60832aa\" class=\"colab-df-container\">\n",
              "    <div>\n",
              "<style scoped>\n",
              "    .dataframe tbody tr th:only-of-type {\n",
              "        vertical-align: middle;\n",
              "    }\n",
              "\n",
              "    .dataframe tbody tr th {\n",
              "        vertical-align: top;\n",
              "    }\n",
              "\n",
              "    .dataframe thead th {\n",
              "        text-align: right;\n",
              "    }\n",
              "</style>\n",
              "<table border=\"1\" class=\"dataframe\">\n",
              "  <thead>\n",
              "    <tr style=\"text-align: right;\">\n",
              "      <th></th>\n",
              "      <th>ano</th>\n",
              "      <th>produto</th>\n",
              "      <th>producao_ton</th>\n",
              "    </tr>\n",
              "  </thead>\n",
              "  <tbody>\n",
              "    <tr>\n",
              "      <th>0</th>\n",
              "      <td>2021</td>\n",
              "      <td>Milho</td>\n",
              "      <td>200</td>\n",
              "    </tr>\n",
              "    <tr>\n",
              "      <th>1</th>\n",
              "      <td>2020</td>\n",
              "      <td>Soja</td>\n",
              "      <td>150</td>\n",
              "    </tr>\n",
              "    <tr>\n",
              "      <th>2</th>\n",
              "      <td>2022</td>\n",
              "      <td>Café</td>\n",
              "      <td>50</td>\n",
              "    </tr>\n",
              "  </tbody>\n",
              "</table>\n",
              "</div>\n",
              "    <div class=\"colab-df-buttons\">\n",
              "\n",
              "  <div class=\"colab-df-container\">\n",
              "    <button class=\"colab-df-convert\" onclick=\"convertToInteractive('df-dfc9e64f-1c90-45e2-896b-3a19e60832aa')\"\n",
              "            title=\"Convert this dataframe to an interactive table.\"\n",
              "            style=\"display:none;\">\n",
              "\n",
              "  <svg xmlns=\"http://www.w3.org/2000/svg\" height=\"24px\" viewBox=\"0 -960 960 960\">\n",
              "    <path d=\"M120-120v-720h720v720H120Zm60-500h600v-160H180v160Zm220 220h160v-160H400v160Zm0 220h160v-160H400v160ZM180-400h160v-160H180v160Zm440 0h160v-160H620v160ZM180-180h160v-160H180v160Zm440 0h160v-160H620v160Z\"/>\n",
              "  </svg>\n",
              "    </button>\n",
              "\n",
              "  <style>\n",
              "    .colab-df-container {\n",
              "      display:flex;\n",
              "      gap: 12px;\n",
              "    }\n",
              "\n",
              "    .colab-df-convert {\n",
              "      background-color: #E8F0FE;\n",
              "      border: none;\n",
              "      border-radius: 50%;\n",
              "      cursor: pointer;\n",
              "      display: none;\n",
              "      fill: #1967D2;\n",
              "      height: 32px;\n",
              "      padding: 0 0 0 0;\n",
              "      width: 32px;\n",
              "    }\n",
              "\n",
              "    .colab-df-convert:hover {\n",
              "      background-color: #E2EBFA;\n",
              "      box-shadow: 0px 1px 2px rgba(60, 64, 67, 0.3), 0px 1px 3px 1px rgba(60, 64, 67, 0.15);\n",
              "      fill: #174EA6;\n",
              "    }\n",
              "\n",
              "    .colab-df-buttons div {\n",
              "      margin-bottom: 4px;\n",
              "    }\n",
              "\n",
              "    [theme=dark] .colab-df-convert {\n",
              "      background-color: #3B4455;\n",
              "      fill: #D2E3FC;\n",
              "    }\n",
              "\n",
              "    [theme=dark] .colab-df-convert:hover {\n",
              "      background-color: #434B5C;\n",
              "      box-shadow: 0px 1px 3px 1px rgba(0, 0, 0, 0.15);\n",
              "      filter: drop-shadow(0px 1px 2px rgba(0, 0, 0, 0.3));\n",
              "      fill: #FFFFFF;\n",
              "    }\n",
              "  </style>\n",
              "\n",
              "    <script>\n",
              "      const buttonEl =\n",
              "        document.querySelector('#df-dfc9e64f-1c90-45e2-896b-3a19e60832aa button.colab-df-convert');\n",
              "      buttonEl.style.display =\n",
              "        google.colab.kernel.accessAllowed ? 'block' : 'none';\n",
              "\n",
              "      async function convertToInteractive(key) {\n",
              "        const element = document.querySelector('#df-dfc9e64f-1c90-45e2-896b-3a19e60832aa');\n",
              "        const dataTable =\n",
              "          await google.colab.kernel.invokeFunction('convertToInteractive',\n",
              "                                                    [key], {});\n",
              "        if (!dataTable) return;\n",
              "\n",
              "        const docLinkHtml = 'Like what you see? Visit the ' +\n",
              "          '<a target=\"_blank\" href=https://colab.research.google.com/notebooks/data_table.ipynb>data table notebook</a>'\n",
              "          + ' to learn more about interactive tables.';\n",
              "        element.innerHTML = '';\n",
              "        dataTable['output_type'] = 'display_data';\n",
              "        await google.colab.output.renderOutput(dataTable, element);\n",
              "        const docLink = document.createElement('div');\n",
              "        docLink.innerHTML = docLinkHtml;\n",
              "        element.appendChild(docLink);\n",
              "      }\n",
              "    </script>\n",
              "  </div>\n",
              "\n",
              "\n",
              "    <div id=\"df-d31ae697-f580-4fab-862c-5a3ba795fac5\">\n",
              "      <button class=\"colab-df-quickchart\" onclick=\"quickchart('df-d31ae697-f580-4fab-862c-5a3ba795fac5')\"\n",
              "                title=\"Suggest charts\"\n",
              "                style=\"display:none;\">\n",
              "\n",
              "<svg xmlns=\"http://www.w3.org/2000/svg\" height=\"24px\"viewBox=\"0 0 24 24\"\n",
              "     width=\"24px\">\n",
              "    <g>\n",
              "        <path d=\"M19 3H5c-1.1 0-2 .9-2 2v14c0 1.1.9 2 2 2h14c1.1 0 2-.9 2-2V5c0-1.1-.9-2-2-2zM9 17H7v-7h2v7zm4 0h-2V7h2v10zm4 0h-2v-4h2v4z\"/>\n",
              "    </g>\n",
              "</svg>\n",
              "      </button>\n",
              "\n",
              "<style>\n",
              "  .colab-df-quickchart {\n",
              "      --bg-color: #E8F0FE;\n",
              "      --fill-color: #1967D2;\n",
              "      --hover-bg-color: #E2EBFA;\n",
              "      --hover-fill-color: #174EA6;\n",
              "      --disabled-fill-color: #AAA;\n",
              "      --disabled-bg-color: #DDD;\n",
              "  }\n",
              "\n",
              "  [theme=dark] .colab-df-quickchart {\n",
              "      --bg-color: #3B4455;\n",
              "      --fill-color: #D2E3FC;\n",
              "      --hover-bg-color: #434B5C;\n",
              "      --hover-fill-color: #FFFFFF;\n",
              "      --disabled-bg-color: #3B4455;\n",
              "      --disabled-fill-color: #666;\n",
              "  }\n",
              "\n",
              "  .colab-df-quickchart {\n",
              "    background-color: var(--bg-color);\n",
              "    border: none;\n",
              "    border-radius: 50%;\n",
              "    cursor: pointer;\n",
              "    display: none;\n",
              "    fill: var(--fill-color);\n",
              "    height: 32px;\n",
              "    padding: 0;\n",
              "    width: 32px;\n",
              "  }\n",
              "\n",
              "  .colab-df-quickchart:hover {\n",
              "    background-color: var(--hover-bg-color);\n",
              "    box-shadow: 0 1px 2px rgba(60, 64, 67, 0.3), 0 1px 3px 1px rgba(60, 64, 67, 0.15);\n",
              "    fill: var(--button-hover-fill-color);\n",
              "  }\n",
              "\n",
              "  .colab-df-quickchart-complete:disabled,\n",
              "  .colab-df-quickchart-complete:disabled:hover {\n",
              "    background-color: var(--disabled-bg-color);\n",
              "    fill: var(--disabled-fill-color);\n",
              "    box-shadow: none;\n",
              "  }\n",
              "\n",
              "  .colab-df-spinner {\n",
              "    border: 2px solid var(--fill-color);\n",
              "    border-color: transparent;\n",
              "    border-bottom-color: var(--fill-color);\n",
              "    animation:\n",
              "      spin 1s steps(1) infinite;\n",
              "  }\n",
              "\n",
              "  @keyframes spin {\n",
              "    0% {\n",
              "      border-color: transparent;\n",
              "      border-bottom-color: var(--fill-color);\n",
              "      border-left-color: var(--fill-color);\n",
              "    }\n",
              "    20% {\n",
              "      border-color: transparent;\n",
              "      border-left-color: var(--fill-color);\n",
              "      border-top-color: var(--fill-color);\n",
              "    }\n",
              "    30% {\n",
              "      border-color: transparent;\n",
              "      border-left-color: var(--fill-color);\n",
              "      border-top-color: var(--fill-color);\n",
              "      border-right-color: var(--fill-color);\n",
              "    }\n",
              "    40% {\n",
              "      border-color: transparent;\n",
              "      border-right-color: var(--fill-color);\n",
              "      border-top-color: var(--fill-color);\n",
              "    }\n",
              "    60% {\n",
              "      border-color: transparent;\n",
              "      border-right-color: var(--fill-color);\n",
              "    }\n",
              "    80% {\n",
              "      border-color: transparent;\n",
              "      border-right-color: var(--fill-color);\n",
              "      border-bottom-color: var(--fill-color);\n",
              "    }\n",
              "    90% {\n",
              "      border-color: transparent;\n",
              "      border-bottom-color: var(--fill-color);\n",
              "    }\n",
              "  }\n",
              "</style>\n",
              "\n",
              "      <script>\n",
              "        async function quickchart(key) {\n",
              "          const quickchartButtonEl =\n",
              "            document.querySelector('#' + key + ' button');\n",
              "          quickchartButtonEl.disabled = true;  // To prevent multiple clicks.\n",
              "          quickchartButtonEl.classList.add('colab-df-spinner');\n",
              "          try {\n",
              "            const charts = await google.colab.kernel.invokeFunction(\n",
              "                'suggestCharts', [key], {});\n",
              "          } catch (error) {\n",
              "            console.error('Error during call to suggestCharts:', error);\n",
              "          }\n",
              "          quickchartButtonEl.classList.remove('colab-df-spinner');\n",
              "          quickchartButtonEl.classList.add('colab-df-quickchart-complete');\n",
              "        }\n",
              "        (() => {\n",
              "          let quickchartButtonEl =\n",
              "            document.querySelector('#df-d31ae697-f580-4fab-862c-5a3ba795fac5 button');\n",
              "          quickchartButtonEl.style.display =\n",
              "            google.colab.kernel.accessAllowed ? 'block' : 'none';\n",
              "        })();\n",
              "      </script>\n",
              "    </div>\n",
              "\n",
              "  <div id=\"id_e1221059-6b0f-4eb7-a9cd-782c536a7419\">\n",
              "    <style>\n",
              "      .colab-df-generate {\n",
              "        background-color: #E8F0FE;\n",
              "        border: none;\n",
              "        border-radius: 50%;\n",
              "        cursor: pointer;\n",
              "        display: none;\n",
              "        fill: #1967D2;\n",
              "        height: 32px;\n",
              "        padding: 0 0 0 0;\n",
              "        width: 32px;\n",
              "      }\n",
              "\n",
              "      .colab-df-generate:hover {\n",
              "        background-color: #E2EBFA;\n",
              "        box-shadow: 0px 1px 2px rgba(60, 64, 67, 0.3), 0px 1px 3px 1px rgba(60, 64, 67, 0.15);\n",
              "        fill: #174EA6;\n",
              "      }\n",
              "\n",
              "      [theme=dark] .colab-df-generate {\n",
              "        background-color: #3B4455;\n",
              "        fill: #D2E3FC;\n",
              "      }\n",
              "\n",
              "      [theme=dark] .colab-df-generate:hover {\n",
              "        background-color: #434B5C;\n",
              "        box-shadow: 0px 1px 3px 1px rgba(0, 0, 0, 0.15);\n",
              "        filter: drop-shadow(0px 1px 2px rgba(0, 0, 0, 0.3));\n",
              "        fill: #FFFFFF;\n",
              "      }\n",
              "    </style>\n",
              "    <button class=\"colab-df-generate\" onclick=\"generateWithVariable('df_resultado')\"\n",
              "            title=\"Generate code using this dataframe.\"\n",
              "            style=\"display:none;\">\n",
              "\n",
              "  <svg xmlns=\"http://www.w3.org/2000/svg\" height=\"24px\"viewBox=\"0 0 24 24\"\n",
              "       width=\"24px\">\n",
              "    <path d=\"M7,19H8.4L18.45,9,17,7.55,7,17.6ZM5,21V16.75L18.45,3.32a2,2,0,0,1,2.83,0l1.4,1.43a1.91,1.91,0,0,1,.58,1.4,1.91,1.91,0,0,1-.58,1.4L9.25,21ZM18.45,9,17,7.55Zm-12,3A5.31,5.31,0,0,0,4.9,8.1,5.31,5.31,0,0,0,1,6.5,5.31,5.31,0,0,0,4.9,4.9,5.31,5.31,0,0,0,6.5,1,5.31,5.31,0,0,0,8.1,4.9,5.31,5.31,0,0,0,12,6.5,5.46,5.46,0,0,0,6.5,12Z\"/>\n",
              "  </svg>\n",
              "    </button>\n",
              "    <script>\n",
              "      (() => {\n",
              "      const buttonEl =\n",
              "        document.querySelector('#id_e1221059-6b0f-4eb7-a9cd-782c536a7419 button.colab-df-generate');\n",
              "      buttonEl.style.display =\n",
              "        google.colab.kernel.accessAllowed ? 'block' : 'none';\n",
              "\n",
              "      buttonEl.onclick = () => {\n",
              "        google.colab.notebook.generateWithVariable('df_resultado');\n",
              "      }\n",
              "      })();\n",
              "    </script>\n",
              "  </div>\n",
              "\n",
              "    </div>\n",
              "  </div>\n"
            ],
            "application/vnd.google.colaboratory.intrinsic+json": {
              "type": "dataframe",
              "variable_name": "df_resultado",
              "summary": "{\n  \"name\": \"df_resultado\",\n  \"rows\": 3,\n  \"fields\": [\n    {\n      \"column\": \"ano\",\n      \"properties\": {\n        \"dtype\": \"Int64\",\n        \"num_unique_values\": 3,\n        \"samples\": [\n          2021,\n          2020,\n          2022\n        ],\n        \"semantic_type\": \"\",\n        \"description\": \"\"\n      }\n    },\n    {\n      \"column\": \"produto\",\n      \"properties\": {\n        \"dtype\": \"string\",\n        \"num_unique_values\": 3,\n        \"samples\": [\n          \"Milho\",\n          \"Soja\",\n          \"Caf\\u00e9\"\n        ],\n        \"semantic_type\": \"\",\n        \"description\": \"\"\n      }\n    },\n    {\n      \"column\": \"producao_ton\",\n      \"properties\": {\n        \"dtype\": \"Int64\",\n        \"num_unique_values\": 3,\n        \"samples\": [\n          200,\n          150,\n          50\n        ],\n        \"semantic_type\": \"\",\n        \"description\": \"\"\n      }\n    }\n  ]\n}"
            }
          },
          "metadata": {}
        }
      ]
    },
    {
      "cell_type": "code",
      "source": [
        "# Verificar contagem de linhas\n",
        "query = f\"SELECT COUNT(*) as total FROM {PROJECT_ID}.{DATASET_ID}.{TABLE_ID}\"\n",
        "result = client.query(query).result()\n",
        "for row in result:\n",
        "    print(f\"Total de registros na tabela: {row.total}\")"
      ],
      "metadata": {
        "colab": {
          "base_uri": "https://localhost:8080/"
        },
        "id": "LJH8Eyier-SO",
        "outputId": "e66cee72-9626-4fb6-f4d9-59ff47017e3b"
      },
      "execution_count": 32,
      "outputs": [
        {
          "output_type": "stream",
          "name": "stdout",
          "text": [
            "Total de registros na tabela: 2\n"
          ]
        }
      ]
    },
    {
      "cell_type": "code",
      "source": [
        "# Exportar DataFrame para CSV\n",
        "df.to_csv('dados_agricolas.csv', index=False)\n",
        "\n",
        "# Fazer upload para GCS\n",
        "!gsutil cp dados_agricolas.csv gs://seu-bucket/\n",
        "\n",
        "# Carregar do GCS para BigQuery\n",
        "job_config = bigquery.LoadJobConfig(\n",
        "    source_format=bigquery.SourceFormat.CSV,\n",
        "    skip_leading_rows=1,\n",
        "    autodetect=True\n",
        ")\n",
        "\n",
        "uri = \"gs://seu-bucket/dados_agricolas.csv\"\n",
        "load_job = client.load_table_from_uri(\n",
        "    uri, f\"{PROJECT_ID}.{DATASET_ID}.{TABLE_ID}\", job_config=job_config\n",
        ")"
      ],
      "metadata": {
        "colab": {
          "base_uri": "https://localhost:8080/"
        },
        "id": "O4Cgp3QssN8H",
        "outputId": "25a105c6-751a-454b-cf26-9a13c47ba233"
      },
      "execution_count": 33,
      "outputs": [
        {
          "output_type": "stream",
          "name": "stdout",
          "text": [
            "Copying file://dados_agricolas.csv [Content-Type=text/csv]...\n",
            "You are attempting to access protected data with no configured\n",
            "credentials. Please visit https://cloud.google.com/console#/project\n",
            "and sign up for an account, and then run the \"gcloud auth login\"\n",
            "command to configure gsutil to use these credentials.\n"
          ]
        }
      ]
    },
    {
      "cell_type": "code",
      "source": [
        "def carregar_dados_bigquery(df, table_name, append=True):\n",
        "    \"\"\"\n",
        "    Carrega dados no BigQuery usando método em lote\n",
        "\n",
        "    Parâmetros:\n",
        "    df - DataFrame com os dados\n",
        "    table_name - Nome da tabela de destino\n",
        "    append - Se True, adiciona aos dados existentes\n",
        "    \"\"\"\n",
        "    try:\n",
        "        df.to_gbq(\n",
        "            destination_table=f'{DATASET_ID}.{table_name}',\n",
        "            project_id=PROJECT_ID,\n",
        "            if_exists='append' if append else 'replace',\n",
        "            progress_bar=False\n",
        "        )\n",
        "        print(f\"✅ Dados carregados em {table_name}\")\n",
        "        return True\n",
        "    except Exception as e:\n",
        "        print(f\"❌ Erro ao carregar dados: {e}\")\n",
        "        return False"
      ],
      "metadata": {
        "id": "bnT-ubeDs1VT"
      },
      "execution_count": 34,
      "outputs": []
    },
    {
      "cell_type": "code",
      "source": [
        "# Criar dados de exemplo\n",
        "anos = list(range(2018, 2024))\n",
        "produtos = ['Soja', 'Milho', 'Café', 'Feijão']\n",
        "municipios = ['Uberaba', 'Uberlândia', 'Patrocínio', 'Araguari']\n",
        "\n",
        "# Gerar DataFrame com dados aleatórios\n",
        "import numpy as np\n",
        "np.random.seed(42)\n",
        "\n",
        "dados = []\n",
        "for ano in anos:\n",
        "    for produto in produtos:\n",
        "        for municipio in municipios:\n",
        "            dados.append({\n",
        "                'ano': ano,\n",
        "                'produto': produto,\n",
        "                'producao_ton': round(np.random.uniform(50, 300), 2),\n",
        "                'municipio': municipio\n",
        "            })\n",
        "\n",
        "df_producao = pd.DataFrame(dados)\n",
        "\n",
        "# Carregar no BigQuery\n",
        "carregar_dados_bigquery(df_producao, TABLE_ID, append=False)"
      ],
      "metadata": {
        "colab": {
          "base_uri": "https://localhost:8080/"
        },
        "id": "wVh_nZjfs3Rj",
        "outputId": "ad3e9fa5-2d00-48a3-f2f1-78e26cf79830"
      },
      "execution_count": 35,
      "outputs": [
        {
          "output_type": "stream",
          "name": "stderr",
          "text": [
            "<ipython-input-34-697cb1779f4e>:11: FutureWarning: to_gbq is deprecated and will be removed in a future version. Please use pandas_gbq.to_gbq instead: https://pandas-gbq.readthedocs.io/en/latest/api.html#pandas_gbq.to_gbq\n",
            "  df.to_gbq(\n"
          ]
        },
        {
          "output_type": "stream",
          "name": "stdout",
          "text": [
            "✅ Dados carregados em producao_agricola\n"
          ]
        },
        {
          "output_type": "execute_result",
          "data": {
            "text/plain": [
              "True"
            ]
          },
          "metadata": {},
          "execution_count": 35
        }
      ]
    },
    {
      "cell_type": "code",
      "source": [
        "query_producao_ano = f\"\"\"\n",
        "SELECT\n",
        "  ano,\n",
        "  SUM(producao_ton) as producao_total,\n",
        "  COUNT(DISTINCT municipio) as municipios_cobertos\n",
        "FROM\n",
        "  {PROJECT_ID}.{DATASET_ID}.{TABLE_ID}\n",
        "GROUP BY\n",
        "  ano\n",
        "ORDER BY\n",
        "  ano\n",
        "\"\"\"\n",
        "\n",
        "df_ano = client.query(query_producao_ano).to_dataframe()\n",
        "\n",
        "# Visualização\n",
        "plt.figure(figsize=(10, 6))\n",
        "sns.lineplot(data=df_ano, x='ano', y='producao_total', marker='o')\n",
        "plt.title('Produção Agrícola Total em Minas Gerais (2018-2023)')\n",
        "plt.ylabel('Produção (toneladas)')\n",
        "plt.xlabel('Ano')\n",
        "plt.grid(True)\n",
        "plt.show()"
      ],
      "metadata": {
        "colab": {
          "base_uri": "https://localhost:8080/",
          "height": 565
        },
        "id": "9WfDcsDutJGe",
        "outputId": "c707fec3-dd99-4a58-fa60-4f865b5fd44c"
      },
      "execution_count": 36,
      "outputs": [
        {
          "output_type": "display_data",
          "data": {
            "text/plain": [
              "<Figure size 1000x600 with 1 Axes>"
            ],
            "image/png": "[encoded data removed]"
          },
          "metadata": {}
        }
      ]
    },
    {
      "cell_type": "code",
      "source": [
        "query_ranking = f\"\"\"\n",
        "SELECT\n",
        "  produto,\n",
        "  SUM(producao_ton) as producao_total,\n",
        "  ROUND(AVG(producao_ton), 2) as media_por_municipio\n",
        "FROM\n",
        "  {PROJECT_ID}.{DATASET_ID}.{TABLE_ID}\n",
        "GROUP BY\n",
        "  produto\n",
        "ORDER BY\n",
        "  producao_total DESC\n",
        "\"\"\"\n",
        "\n",
        "df_ranking = client.query(query_ranking).to_dataframe()\n",
        "\n",
        "# Visualização\n",
        "plt.figure(figsize=(10, 6))\n",
        "sns.barplot(data=df_ranking, x='produto', y='producao_total')\n",
        "plt.title('Produção Agrícola por Tipo de Produto')\n",
        "plt.ylabel('Produção Total (toneladas)')\n",
        "plt.xlabel('Produto')\n",
        "plt.xticks(rotation=45)\n",
        "plt.show()"
      ],
      "metadata": {
        "colab": {
          "base_uri": "https://localhost:8080/",
          "height": 589
        },
        "id": "rvnWdlB_tbLZ",
        "outputId": "45c0dbfa-315b-42b7-9236-8cae6e5ec5b9"
      },
      "execution_count": 37,
      "outputs": [
        {
          "output_type": "display_data",
          "data": {
            "text/plain": [
              "<Figure size 1000x600 with 1 Axes>"
            ],
            "image/png": "[encoded data removed]"
          },
          "metadata": {}
        }
      ]
    },
    {
      "cell_type": "code",
      "source": [
        "query_municipios = f\"\"\"\n",
        "SELECT\n",
        "  municipio,\n",
        "  SUM(producao_ton) as producao_total,\n",
        "  COUNT(DISTINCT produto) as diversidade_produtos\n",
        "FROM\n",
        "  {PROJECT_ID}.{DATASET_ID}.{TABLE_ID}\n",
        "GROUP BY\n",
        "  municipio\n",
        "ORDER BY\n",
        "  producao_total DESC\n",
        "LIMIT 10\n",
        "\"\"\"\n",
        "\n",
        "df_municipios = client.query(query_municipios).to_dataframe()\n",
        "\n",
        "# Visualização\n",
        "plt.figure(figsize=(12, 6))\n",
        "sns.barplot(data=df_municipios, x='municipio', y='producao_total', hue='diversidade_produtos')\n",
        "plt.title('Top 10 Municípios por Produção Agrícola')\n",
        "plt.ylabel('Produção Total (toneladas)')\n",
        "plt.xlabel('Município')\n",
        "plt.legend(title='Diversidade de Produtos')\n",
        "plt.xticks(rotation=45)\n",
        "plt.show()"
      ],
      "metadata": {
        "colab": {
          "base_uri": "https://localhost:8080/",
          "height": 615
        },
        "id": "A0hjYADvtp0o",
        "outputId": "cb50c6bc-a4a2-457a-fad9-fab3c6774ab8"
      },
      "execution_count": 38,
      "outputs": [
        {
          "output_type": "display_data",
          "data": {
            "text/plain": [
              "<Figure size 1200x600 with 1 Axes>"
            ],
            "image/png": "[encoded data removed]"
          },
          "metadata": {}
        }
      ]
    },
    {
      "cell_type": "code",
      "source": [
        "# Consulta para criar tabela de resultados\n",
        "query_criar_resultados = f\"\"\"\n",
        "CREATE OR REPLACE TABLE {PROJECT_ID}.{DATASET_ID}.resultados_analise AS\n",
        "SELECT\n",
        "  ano,\n",
        "  produto,\n",
        "  municipio,\n",
        "  producao_ton,\n",
        "  producao_ton / NULLIF(SUM(producao_ton) OVER (PARTITION BY ano, produto), 0) * 100 as percentual_ano_produto\n",
        "FROM\n",
        "  {PROJECT_ID}.{DATASET_ID}.{TABLE_ID}\n",
        "\"\"\"\n",
        "\n",
        "client.query(query_criar_resultados).result()\n",
        "print(\"✅ Tabela de resultados criada com sucesso\")"
      ],
      "metadata": {
        "colab": {
          "base_uri": "https://localhost:8080/"
        },
        "id": "KPjGr47lt5m1",
        "outputId": "4ff7f55f-19b4-4779-a292-ee7c9ffe7def"
      },
      "execution_count": 39,
      "outputs": [
        {
          "output_type": "stream",
          "name": "stdout",
          "text": [
            "✅ Tabela de resultados criada com sucesso\n"
          ]
        }
      ]
    },
    {
      "cell_type": "code",
      "source": [
        "# Verificar uso do BigQuery\n",
        "query_custo = \"\"\"\n",
        "SELECT\n",
        "  SUM(total_bytes_processed) / POW(1024, 3) as GB_processados\n",
        "FROM\n",
        "  region-us.INFORMATION_SCHEMA.JOBS_BY_PROJECT\n",
        "WHERE\n",
        "  creation_time BETWEEN TIMESTAMP_SUB(CURRENT_TIMESTAMP(), INTERVAL 30 DAY) AND CURRENT_TIMESTAMP()\n",
        "\"\"\"\n",
        "\n",
        "df_custo = client.query(query_custo).to_dataframe()\n",
        "print(f\"Uso recente: {df_custo.iloc[0]['GB_processados']:.2f} GB processados\")"
      ],
      "metadata": {
        "colab": {
          "base_uri": "https://localhost:8080/"
        },
        "id": "OWbYhR9Bt_B_",
        "outputId": "3281e2ae-8f71-491b-dc0a-375fa48dda5c"
      },
      "execution_count": 40,
      "outputs": [
        {
          "output_type": "stream",
          "name": "stdout",
          "text": [
            "Uso recente: nan GB processados\n"
          ]
        }
      ]
    },
    {
      "cell_type": "code",
      "source": [
        "# Exemplo: Tendência de produção por produto\n",
        "from scipy import stats\n",
        "\n",
        "for produto in df_producao['produto'].unique():\n",
        "    df_temp = df_producao[df_producao['produto'] == produto].groupby('ano')['producao_ton'].sum().reset_index()\n",
        "    slope, _, _, _, _ = stats.linregress(df_temp['ano'], df_temp['producao_ton'])\n",
        "    print(f\"Tendência anual para {produto}: {slope:.2f} ton/ano\")"
      ],
      "metadata": {
        "colab": {
          "base_uri": "https://localhost:8080/"
        },
        "id": "vhqRLawXuVRM",
        "outputId": "1434a1fb-d6b0-44cd-9f7b-fe05679b2c9f"
      },
      "execution_count": 41,
      "outputs": [
        {
          "output_type": "stream",
          "name": "stdout",
          "text": [
            "Tendência anual para Soja: -25.31 ton/ano\n",
            "Tendência anual para Milho: 53.79 ton/ano\n",
            "Tendência anual para Café: -3.84 ton/ano\n",
            "Tendência anual para Feijão: 40.61 ton/ano\n"
          ]
        }
      ]
    },
    {
      "cell_type": "code",
      "source": [
        "# Previsão para próximo ano (método simplificado)\n",
        "ultimo_ano = df_producao['ano'].max()\n",
        "df_ultimo_ano = df_producao[df_producao['ano'] == ultimo_ano]\n",
        "\n",
        "# Aplicar crescimento médio de 5%\n",
        "df_previsao = df_ultimo_ano.copy()\n",
        "df_previsao['ano'] = ultimo_ano + 1\n",
        "df_previsao['producao_ton'] = df_previsao['producao_ton'] * 1.05\n",
        "\n",
        "# Carregar previsão\n",
        "carregar_dados_bigquery(df_previsao, 'previsao_producao')"
      ],
      "metadata": {
        "colab": {
          "base_uri": "https://localhost:8080/"
        },
        "id": "HTh-AyrxuafX",
        "outputId": "cc0810d8-dd97-415d-b6b0-35a5ab0f371b"
      },
      "execution_count": 42,
      "outputs": [
        {
          "output_type": "stream",
          "name": "stderr",
          "text": [
            "<ipython-input-34-697cb1779f4e>:11: FutureWarning: to_gbq is deprecated and will be removed in a future version. Please use pandas_gbq.to_gbq instead: https://pandas-gbq.readthedocs.io/en/latest/api.html#pandas_gbq.to_gbq\n",
            "  df.to_gbq(\n"
          ]
        },
        {
          "output_type": "stream",
          "name": "stdout",
          "text": [
            "✅ Dados carregados em previsao_producao\n"
          ]
        },
        {
          "output_type": "execute_result",
          "data": {
            "text/plain": [
              "True"
            ]
          },
          "metadata": {},
          "execution_count": 42
        }
      ]
    }
  ]
}