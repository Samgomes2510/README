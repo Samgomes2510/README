{
  "nbformat": 4,
  "nbformat_minor": 0,
  "metadata": {
    "colab": {
      "provenance": [],
      "authorship_tag": "ABX9TyMebs/quvPpPNLtjNtF6h/4",
      "include_colab_link": true
    },
    "kernelspec": {
      "name": "python3",
      "display_name": "Python 3"
    },
    "language_info": {
      "name": "python"
    }
  },
  "cells": [
    {
      "cell_type": "markdown",
      "metadata": {
        "id": "view-in-github",
        "colab_type": "text"
      },
      "source": [
        "<a href=\"https://colab.research.google.com/github/Samgomes2510/README/blob/main/analise_otimizacao_codigo_python.ipynb\" target=\"_parent\"><img src=\"https://colab.research.google.com/assets/colab-badge.svg\" alt=\"Open In Colab\"/></a>"
      ]
    },
    {
      "cell_type": "code",
      "source": [
        "import random\n",
        "from statistics import mean\n",
        "\n",
        "def gerar_lista_aleatoria(tamanho: int, limite: int) -> list[int]:\n",
        "    \"\"\"Gera uma lista de números inteiros aleatórios.\"\"\"\n",
        "    return [random.randint(0, limite) for _ in range(tamanho)]\n",
        "\n",
        "def calcular_media(lista_numeros: list[int]) -> float:\n",
        "    \"\"\"Calcula a média da lista.\"\"\"\n",
        "    return mean(lista_numeros)\n",
        "\n",
        "def encontrar_maximo(lista_numeros: list[int]) -> int:\n",
        "    \"\"\"Retorna o maior número da lista.\"\"\"\n",
        "    return max(lista_numeros)\n",
        "\n",
        "def encontrar_minimo(lista_numeros: list[int]) -> int:\n",
        "    \"\"\"Retorna o menor número da lista.\"\"\"\n",
        "    return min(lista_numeros)\n",
        "\n",
        "def ordenar_lista(lista_numeros: list[int]) -> list[int]:\n",
        "    \"\"\"Retorna a lista ordenada em ordem crescente.\"\"\"\n",
        "    return sorted(lista_numeros)\n",
        "\n",
        "# Correct the typo from _name_ to __name__\n",
        "if __name__ == \"__main__\":\n",
        "    tamanho = 10\n",
        "    limite = 100\n",
        "    numeros = gerar_lista_aleatoria(tamanho, limite)\n",
        "\n",
        "    print(f'Lista gerada: {numeros}')\n",
        "    print(f'Média: {calcular_media(numeros):.2f}')\n",
        "    print(f'Máximo: {encontrar_maximo(numeros)}')\n",
        "    print(f'Mínimo: {encontrar_minimo(numeros)}')\n",
        "    print(f'Lista ordenada: {ordenar_lista(numeros)}')"
      ],
      "metadata": {
        "colab": {
          "base_uri": "https://localhost:8080/"
        },
        "id": "FFXoHQ-EX4-4",
        "outputId": "ea02fbd8-5fd0-4da3-fd29-0a7f2c3321e1"
      },
      "execution_count": 2,
      "outputs": [
        {
          "output_type": "stream",
          "name": "stdout",
          "text": [
            "Lista gerada: [94, 77, 77, 7, 6, 96, 88, 7, 82, 29]\n",
            "Média: 56.30\n",
            "Máximo: 96\n",
            "Mínimo: 6\n",
            "Lista ordenada: [6, 7, 7, 29, 77, 77, 82, 88, 94, 96]\n"
          ]
        }
      ]
    },
    {
      "cell_type": "markdown",
      "source": [
        "# Análise e Otimização de Código Python\n",
        "\n",
        "## Introdução\n",
        "\n",
        "Este documento tem como objetivo apresentar a análise e as melhorias realizadas em um código Python base. O código original tem como função gerar uma lista de números aleatórios e aplicar algumas operações sobre ela, como cálculo de média, máximo, mínimo e ordenação. A IA foi utilizada para sugerir melhorias no código, focando na eficiência, legibilidade e boas práticas.\n",
        "\n",
        "---\n",
        "\n",
        "## Código Original\n",
        "\n",
        "O código original, fornecido como base, realiza as seguintes tarefas:\n",
        "\n",
        "- Geração de uma lista de números aleatórios com determinado tamanho e limite.\n",
        "- Cálculo da média, máximo, mínimo e ordenação dos números na lista.\n",
        "\n",
        "```python\n",
        "import random\n",
        "\n",
        "def gerar_lista_aleatoria(tamanho, limite):\n",
        "    lista = []\n",
        "    for _ in range(tamanho):\n",
        "        lista.append(random.randint(0, limite))\n",
        "    return lista\n",
        "\n",
        "def calcular_media(lista_numeros):\n",
        "    soma = 0\n",
        "    for numero in lista_numeros:\n",
        "        soma += numero\n",
        "    return soma / len(lista_numeros)\n",
        "\n",
        "def encontrar_maximo(lista_numeros):\n",
        "    maximo = lista_numeros[0]\n",
        "    for numero in lista_numeros:\n",
        "        if numero > maximo:\n",
        "            maximo = numero\n",
        "    return maximo\n",
        "\n",
        "def encontrar_minimo(lista_numeros):\n",
        "    minimo = lista_numeros[0]\n",
        "    for numero in lista_numeros:\n",
        "        if numero < minimo:\n",
        "            minimo = numero\n",
        "    return minimo\n",
        "\n",
        "def ordenar_lista(lista_numeros):\n",
        "    for i in range(len(lista_numeros)):\n",
        "        for j in range(i + 1, len(lista_numeros)):\n",
        "            if lista_numeros[i] > lista_numeros[j]:\n",
        "                lista_numeros[i], lista_numeros[j] = lista_numeros[j], lista_numeros[i]\n",
        "    return lista_numeros\n",
        "\n",
        "# Gerar lista aleatória\n",
        "tamanho = 10\n",
        "limite = 100\n",
        "numeros = gerar_lista_aleatoria(tamanho, limite)\n",
        "\n",
        "# Aplicar funções e exibir resultados\n",
        "print(f'Lista gerada: {numeros}')\n",
        "print(f'Média: {calcular_media(numeros)}')\n",
        "print(f'Máximo: {encontrar_maximo(numeros)}')\n",
        "print(f'Mínimo: {encontrar_minimo(numeros)}')\n",
        "print(f'Lista ordenada: {ordenar_lista(numeros)}')"
      ],
      "metadata": {
        "id": "YywKlN6xYsMe"
      }
    }
  ]
}